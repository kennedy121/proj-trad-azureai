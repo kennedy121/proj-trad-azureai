{
 "cells": [
  {
   "cell_type": "code",
   "execution_count": 21,
   "metadata": {},
   "outputs": [],
   "source": [
    "from bs4 import BeautifulSoup\n",
    "import requests, uuid, json\n",
    "import os\n",
    "from dotenv import load_dotenv"
   ]
  },
  {
   "cell_type": "code",
   "execution_count": 22,
   "metadata": {},
   "outputs": [],
   "source": [
    "# Carregar variáveis de ambiente do arquivo .env\n",
    "load_dotenv()\n",
    "\n",
    "API_KEY = os.getenv(\"AZURE_OPENAI_KEY\")\n",
    "API_ENDPOINT = os.getenv(\"AZURE_ENDPOINT\")\n",
    "key = os.getenv(\"TRANSLATOR_API_KEY\")\n",
    "endpoint = os.getenv(\"TRANSLATOR_ENDPOINT\")\n",
    "location = os.getenv(\"TRANSLATOR_LOCATION\")"
   ]
  },
  {
   "cell_type": "code",
   "execution_count": 23,
   "metadata": {},
   "outputs": [
    {
     "data": {
      "text/plain": [
       "'Steve Jobs The Visionary Who Blended Spirituality and Technology - DEV Community Skip to content Navigation menu Search Powered by Search Algolia Search Log in Create account DEV Community Close Add reaction Like Unicorn Exploding Head Raised Hands Fire Jump to Comments Save More... Copy link Copy link Copied to Clipboard Share to X Share to LinkedIn Share to Facebook Share to Mastodon Report Abuse Eric Dequevedo Posted on Jun 28 • Originally published at rics-notebook.com Steve Jobs The Visionary Who Blended Spirituality and Technology # stevejobs # apple # iphone # spirituality Steve Jobs: The Visionary Who Blended Spirituality and Technology 🍎🕉️ Steve Jobs, the co-founder of Apple and the mastermind behind revolutionary products like the iPhone, was not only a tech visionary but also a deeply spiritual individual. His unique blend of Eastern spirituality and Western innovation allowed him to create technology that was not only functional but also incredibly cool and desirable. 📱✨ The Spiritual Journey of Steve Jobs 🧘\\u200d♂️ From a young age, Steve Jobs was drawn to Eastern spirituality and philosophy. He famously spent seven months traveling through India in 1974, seeking spiritual enlightenment and studying Buddhism. This experience had a profound impact on his life and would later influence his approach to business and product design. 🌍🙏 One of the most significant turning points in Jobs\\' spiritual journey was his encounter with the book \"Be Here Now\" by Ram Dass. The book, which blends Eastern spirituality with Western psychology, resonated deeply with Jobs and became a guiding force in his life. 📖💡 Jobs\\' spiritual pursuits also led him to develop a connection with the Indian guru Neem Karoli Baba, also known as Maharaj-ji. Although Jobs never met Maharaj-ji in person, he felt a strong spiritual connection to the guru and sought his guidance through intermediaries. This relationship helped Jobs stay grounded and focused as he navigated the challenges of leading a rapidly growing technology company. 🕉️💼 The Intersection of Spirituality and Technology 🌐🧘\\u200d♂️ Steve Jobs\\' spiritual beliefs profoundly influenced his approach to technology and design. He believed that technology should not only be functional but also aesthetically pleasing and intuitive to use. Jobs\\' vision was to create products that would enhance people\\'s lives and bring them joy, rather than merely serving as tools. 🎨💻 The iPhone, perhaps Jobs\\' most iconic creation, perfectly exemplifies this philosophy. With its sleek design, user-friendly interface, and powerful features, the iPhone revolutionized the smartphone industry and set a new standard for mobile technology. Jobs\\' attention to detail and focus on user experience, informed by his spiritual outlook, made the iPhone not just a device, but a statement of style and individuality. 📱👨\\u200d💻 Jobs\\' spiritual approach to leadership also set him apart from other tech CEOs. He fostered a culture of innovation and creativity at Apple, encouraging his team to think differently and push boundaries. Jobs\\' belief in the power of intuition and his ability to \"think different\" allowed him to anticipate and shape the future of technology, rather than simply reacting to market trends. 🔮💡 The Legacy of Steve Jobs 🍏🌟 Steve Jobs\\' impact on the world of technology and his unique approach to blending spirituality with innovation continue to inspire and influence entrepreneurs and designers around the globe. His vision for Apple and his commitment to creating products that enrich people\\'s lives have left an indelible mark on the tech industry. 🌍💻 Beyond his technological achievements, Jobs\\' spiritual journey and his dedication to personal growth and self-discovery serve as a reminder that success and inner peace are not mutually exclusive. By embracing his spirituality and allowing it to guide his work, Jobs was able to achieve remarkable things while staying true to himself and his values. 🧘\\u200d♂️🏆 As we reflect on the life and legacy of Steve Jobs, we can draw inspiration from his ability to blend seemingly disparate worlds – spirituality and technology – into a harmonious whole. By following our own paths to self-discovery and allowing our deepest values to inform our work, we too can create products, services, and experiences that not only change the world but also bring joy and meaning to people\\'s lives. 🌈🙌 Top comments (0) Subscribe Personal Trusted User Create template Templates let you quickly answer FAQs or store snippets for re-use. Submit Preview Dismiss Code of Conduct • Report abuse Are you sure you want to hide this comment? It will become hidden in your post, but will still be visible via the comment\\'s permalink . Hide child comments as well Confirm For further actions, you may consider blocking this person and/or reporting abuse Read next Retry Pattern: Manejando Fallos Transitorios en Sistemas Distribuidos diek - Nov 13 Hmmm. Just checking out the Twitter for devs Paul - Nov 13 What is the Industry Demand for BCA in AI Graduates? Job Prospects and Growth Potential Kavana - Nov 13 Big Data williamxlr - Nov 13 Eric Dequevedo Follow Hello, I\\'m Eric deQuevedo, or Ric. I enjoy studying the Art of Science, and the Science of Art.\\nI am the author of the Robot Ric\\nAnd Founder Of Quantum Cyber Solutions Location Orlando Florida Education University Of Florida Pronouns we/one Work Founder Quantum Cyber Solutions, Author Robot Ric Joined Jun 27, 2024 More from Eric Dequevedo The Quantum Entanglement of Ideas Exploring the Spiritual Implications of Superposition and the Mandela Effect # quantummechanics # spirituality # consciousness # mandelaeffect Robot Ric From Blog Post to Best-Selling Novel # novel # ai # spirituality # resilience Astrology and Quantum Entanglement Unveiling the Cosmic Dance # astrology # quantumphysics # spirituality # science Thank you to our Diamond Sponsor Neon for supporting our community. DEV Community — A constructive and inclusive social network for software developers. With you every step of your journey. Home DEV++ Podcasts Videos Tags DEV Help Forem Shop Advertise on DEV DEV Challenges DEV Showcase About Contact Free Postgres Database Guides Software comparisons Code of Conduct Privacy Policy Terms of use Built on Forem — the open source software that powers DEV and other inclusive communities. Made with love and Ruby on Rails . DEV Community © 2016 - 2024. We\\'re a place where coders share, stay up-to-date and grow their careers. Log in Create account'"
      ]
     },
     "execution_count": 23,
     "metadata": {},
     "output_type": "execute_result"
    }
   ],
   "source": [
    "url=\"https://dev.to/eric_dequ/steve-jobs-the-visionary-who-blended-spirituality-and-technology-3ppi\"\n",
    "def extract_text(url):\n",
    "    response = requests.get(url)\n",
    "    if response.status_code == 200:\n",
    "        soup = BeautifulSoup(response.text, 'html.parser')\n",
    "        for script in soup([\"script\", \"style\"]):\n",
    "            script.decompose()\n",
    "        text = soup.get_text(\" \", strip=True)\n",
    "        return text\n",
    "    else:\n",
    "        print(\"Falha ao buscar a URL. Código de status:\", response.status_code)\n",
    "        return None\n",
    "extract_text(url)"
   ]
  },
  {
   "cell_type": "code",
   "execution_count": 24,
   "metadata": {},
   "outputs": [],
   "source": [
    "def translate_article(text, lang):\n",
    "    headers = {\n",
    "    \"Content-Type\": \"application/json\",\n",
    "    \"api-key\": API_KEY,\n",
    "    }\n",
    "    \n",
    "    # Payload for the request\n",
    "    payload = {\n",
    "      \"messages\": [\n",
    "        {\n",
    "          \"role\": \"system\",\n",
    "          \"content\": [\n",
    "            {\n",
    "              \"type\": \"text\",\n",
    "              \"text\": \"Você atua como tradutor de textos\"\n",
    "            }\n",
    "          ]\n",
    "        },\n",
    "        {\n",
    "          \"role\": \"user\",\n",
    "          \"content\": [\n",
    "            {\n",
    "              \"type\": \"text\",\n",
    "              \"text\": f\"traduza: {text} para o idioma {lang} e responda apenas com a tradução no formato markdown\"\n",
    "            }\n",
    "          ]\n",
    "        },    \n",
    "      ],\n",
    "      \"temperature\": 0.7,\n",
    "      \"top_p\": 0.95,\n",
    "      \"max_tokens\": 900\n",
    "    }\n",
    "    \n",
    "    ENDPOINT = API_ENDPOINT\n",
    "    \n",
    "    # Send request\n",
    "    try:\n",
    "        response = requests.post(ENDPOINT, headers=headers, json=payload)\n",
    "        response.raise_for_status()  # Will raise an HTTPError if the HTTP request returned an unsuccessful status code\n",
    "    except requests.RequestException as e:\n",
    "        raise SystemExit(f\"Failed to make the request. Error: {e}\")\n",
    "    \n",
    "    # Handle the response as needed (e.g., print or process)\n",
    "    return (response.json()['choices'][0]['message']['content'])"
   ]
  },
  {
   "cell_type": "code",
   "execution_count": 25,
   "metadata": {},
   "outputs": [
    {
     "ename": "SystemExit",
     "evalue": "Failed to make the request. Error: Invalid URL 'None': No scheme supplied. Perhaps you meant https://None?",
     "output_type": "error",
     "traceback": [
      "An exception has occurred, use %tb to see the full traceback.\n",
      "\u001b[1;31mSystemExit\u001b[0m\u001b[1;31m:\u001b[0m Failed to make the request. Error: Invalid URL 'None': No scheme supplied. Perhaps you meant https://None?\n"
     ]
    }
   ],
   "source": [
    "translate_article(\"The future belongs to those who believe in the beauty of their dreams. - Eleanor Roosevelt\",\"português\")\n"
   ]
  },
  {
   "cell_type": "code",
   "execution_count": 26,
   "metadata": {},
   "outputs": [
    {
     "ename": "SystemExit",
     "evalue": "Failed to make the request. Error: Invalid URL 'None': No scheme supplied. Perhaps you meant https://None?",
     "output_type": "error",
     "traceback": [
      "An exception has occurred, use %tb to see the full traceback.\n",
      "\u001b[1;31mSystemExit\u001b[0m\u001b[1;31m:\u001b[0m Failed to make the request. Error: Invalid URL 'None': No scheme supplied. Perhaps you meant https://None?\n"
     ]
    }
   ],
   "source": [
    "url = \"https://dev.to/eric_dequ/steve-jobs-the-visionary-who-blended-spirituality-and-technology-3ppi\"\n",
    "text = extract_text(url)\n",
    "artigo = translate_article(text,\"português\")\n",
    "print(artigo)"
   ]
  }
 ],
 "metadata": {
  "kernelspec": {
   "display_name": "Python 3",
   "language": "python",
   "name": "python3"
  },
  "language_info": {
   "codemirror_mode": {
    "name": "ipython",
    "version": 3
   },
   "file_extension": ".py",
   "mimetype": "text/x-python",
   "name": "python",
   "nbconvert_exporter": "python",
   "pygments_lexer": "ipython3",
   "version": "3.12.3"
  }
 },
 "nbformat": 4,
 "nbformat_minor": 2
}
